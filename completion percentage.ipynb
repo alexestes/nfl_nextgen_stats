{
 "cells": [
  {
   "cell_type": "code",
   "execution_count": 1,
   "metadata": {},
   "outputs": [],
   "source": [
    "import pandas as pd\n",
    "from scipy import stats\n",
    "import seaborn as sns"
   ]
  },
  {
   "cell_type": "code",
   "execution_count": 2,
   "metadata": {},
   "outputs": [],
   "source": [
    "df = pd.read_csv(\"stats_2016-2019.csv\")"
   ]
  },
  {
   "cell_type": "code",
   "execution_count": 3,
   "metadata": {},
   "outputs": [
    {
     "data": {
      "text/html": [
       "<div>\n",
       "<style scoped>\n",
       "    .dataframe tbody tr th:only-of-type {\n",
       "        vertical-align: middle;\n",
       "    }\n",
       "\n",
       "    .dataframe tbody tr th {\n",
       "        vertical-align: top;\n",
       "    }\n",
       "\n",
       "    .dataframe thead th {\n",
       "        text-align: right;\n",
       "    }\n",
       "</style>\n",
       "<table border=\"1\" class=\"dataframe\">\n",
       "  <thead>\n",
       "    <tr style=\"text-align: right;\">\n",
       "      <th></th>\n",
       "      <th>team</th>\n",
       "      <th>time to throw</th>\n",
       "      <th>average completed air yards</th>\n",
       "      <th>average intended air yards</th>\n",
       "      <th>average air yards differential</th>\n",
       "      <th>aggressiveness</th>\n",
       "      <th>longest completed air distance</th>\n",
       "      <th>air yards to the sticks</th>\n",
       "      <th>attempts</th>\n",
       "      <th>yards</th>\n",
       "      <th>tds</th>\n",
       "      <th>ints</th>\n",
       "      <th>passer rating</th>\n",
       "      <th>completion percentage</th>\n",
       "      <th>expected completion percentage</th>\n",
       "      <th>completion percentage delta</th>\n",
       "      <th>name</th>\n",
       "      <th>season</th>\n",
       "      <th>standardized delta</th>\n",
       "    </tr>\n",
       "  </thead>\n",
       "  <tbody>\n",
       "    <tr>\n",
       "      <th>0</th>\n",
       "      <td>SF</td>\n",
       "      <td>2.49</td>\n",
       "      <td>6.5</td>\n",
       "      <td>9.1</td>\n",
       "      <td>-2.6</td>\n",
       "      <td>21.9</td>\n",
       "      <td>36.9</td>\n",
       "      <td>0.5</td>\n",
       "      <td>160.0</td>\n",
       "      <td>925.0</td>\n",
       "      <td>5.0</td>\n",
       "      <td>6.0</td>\n",
       "      <td>68.4</td>\n",
       "      <td>56.9</td>\n",
       "      <td>64.2</td>\n",
       "      <td>-7.3</td>\n",
       "      <td>Blaine Gabbert</td>\n",
       "      <td>2016.0</td>\n",
       "      <td>-1.814450</td>\n",
       "    </tr>\n",
       "    <tr>\n",
       "      <th>1</th>\n",
       "      <td>CLE</td>\n",
       "      <td>2.80</td>\n",
       "      <td>7.4</td>\n",
       "      <td>10.4</td>\n",
       "      <td>-3.0</td>\n",
       "      <td>15.8</td>\n",
       "      <td>52.3</td>\n",
       "      <td>1.1</td>\n",
       "      <td>165.0</td>\n",
       "      <td>1100.0</td>\n",
       "      <td>6.0</td>\n",
       "      <td>6.0</td>\n",
       "      <td>72.3</td>\n",
       "      <td>54.5</td>\n",
       "      <td>59.5</td>\n",
       "      <td>-5.0</td>\n",
       "      <td>Josh McCown</td>\n",
       "      <td>2016.0</td>\n",
       "      <td>-1.200110</td>\n",
       "    </tr>\n",
       "    <tr>\n",
       "      <th>2</th>\n",
       "      <td>CHI</td>\n",
       "      <td>2.68</td>\n",
       "      <td>8.4</td>\n",
       "      <td>10.5</td>\n",
       "      <td>-2.1</td>\n",
       "      <td>21.8</td>\n",
       "      <td>47.7</td>\n",
       "      <td>1.3</td>\n",
       "      <td>216.0</td>\n",
       "      <td>1611.0</td>\n",
       "      <td>8.0</td>\n",
       "      <td>14.0</td>\n",
       "      <td>68.3</td>\n",
       "      <td>59.7</td>\n",
       "      <td>58.7</td>\n",
       "      <td>1.0</td>\n",
       "      <td>Matt Barkley</td>\n",
       "      <td>2016.0</td>\n",
       "      <td>0.402516</td>\n",
       "    </tr>\n",
       "    <tr>\n",
       "      <th>3</th>\n",
       "      <td>CHI</td>\n",
       "      <td>2.49</td>\n",
       "      <td>5.7</td>\n",
       "      <td>8.2</td>\n",
       "      <td>-2.5</td>\n",
       "      <td>22.0</td>\n",
       "      <td>45.5</td>\n",
       "      <td>-0.8</td>\n",
       "      <td>200.0</td>\n",
       "      <td>1437.0</td>\n",
       "      <td>6.0</td>\n",
       "      <td>0.0</td>\n",
       "      <td>97.9</td>\n",
       "      <td>67.0</td>\n",
       "      <td>61.7</td>\n",
       "      <td>5.3</td>\n",
       "      <td>Brian Hoyer</td>\n",
       "      <td>2016.0</td>\n",
       "      <td>1.551065</td>\n",
       "    </tr>\n",
       "    <tr>\n",
       "      <th>4</th>\n",
       "      <td>GB</td>\n",
       "      <td>2.87</td>\n",
       "      <td>6.3</td>\n",
       "      <td>9.2</td>\n",
       "      <td>-3.0</td>\n",
       "      <td>16.4</td>\n",
       "      <td>60.8</td>\n",
       "      <td>0.8</td>\n",
       "      <td>610.0</td>\n",
       "      <td>4428.0</td>\n",
       "      <td>40.0</td>\n",
       "      <td>7.0</td>\n",
       "      <td>104.2</td>\n",
       "      <td>65.7</td>\n",
       "      <td>62.2</td>\n",
       "      <td>3.5</td>\n",
       "      <td>Aaron Rodgers</td>\n",
       "      <td>2016.0</td>\n",
       "      <td>1.070277</td>\n",
       "    </tr>\n",
       "  </tbody>\n",
       "</table>\n",
       "</div>"
      ],
      "text/plain": [
       "  team  time to throw  average completed air yards  \\\n",
       "0   SF           2.49                          6.5   \n",
       "1  CLE           2.80                          7.4   \n",
       "2  CHI           2.68                          8.4   \n",
       "3  CHI           2.49                          5.7   \n",
       "4   GB           2.87                          6.3   \n",
       "\n",
       "   average intended air yards  average air yards differential  aggressiveness  \\\n",
       "0                         9.1                            -2.6            21.9   \n",
       "1                        10.4                            -3.0            15.8   \n",
       "2                        10.5                            -2.1            21.8   \n",
       "3                         8.2                            -2.5            22.0   \n",
       "4                         9.2                            -3.0            16.4   \n",
       "\n",
       "   longest completed air distance  air yards to the sticks  attempts   yards  \\\n",
       "0                            36.9                      0.5     160.0   925.0   \n",
       "1                            52.3                      1.1     165.0  1100.0   \n",
       "2                            47.7                      1.3     216.0  1611.0   \n",
       "3                            45.5                     -0.8     200.0  1437.0   \n",
       "4                            60.8                      0.8     610.0  4428.0   \n",
       "\n",
       "    tds  ints  passer rating  completion percentage  \\\n",
       "0   5.0   6.0           68.4                   56.9   \n",
       "1   6.0   6.0           72.3                   54.5   \n",
       "2   8.0  14.0           68.3                   59.7   \n",
       "3   6.0   0.0           97.9                   67.0   \n",
       "4  40.0   7.0          104.2                   65.7   \n",
       "\n",
       "   expected completion percentage  completion percentage delta  \\\n",
       "0                            64.2                         -7.3   \n",
       "1                            59.5                         -5.0   \n",
       "2                            58.7                          1.0   \n",
       "3                            61.7                          5.3   \n",
       "4                            62.2                          3.5   \n",
       "\n",
       "             name  season  standardized delta  \n",
       "0  Blaine Gabbert  2016.0           -1.814450  \n",
       "1     Josh McCown  2016.0           -1.200110  \n",
       "2    Matt Barkley  2016.0            0.402516  \n",
       "3     Brian Hoyer  2016.0            1.551065  \n",
       "4   Aaron Rodgers  2016.0            1.070277  "
      ]
     },
     "execution_count": 3,
     "metadata": {},
     "output_type": "execute_result"
    }
   ],
   "source": [
    "df.head()"
   ]
  },
  {
   "cell_type": "code",
   "execution_count": 8,
   "metadata": {},
   "outputs": [
    {
     "data": {
      "text/plain": [
       "count    158.000000\n",
       "mean      -0.506962\n",
       "std        3.743855\n",
       "min      -10.800000\n",
       "25%       -3.000000\n",
       "50%       -0.400000\n",
       "75%        1.700000\n",
       "max        8.400000\n",
       "Name: completion percentage delta, dtype: float64"
      ]
     },
     "execution_count": 8,
     "metadata": {},
     "output_type": "execute_result"
    }
   ],
   "source": [
    "df['completion percentage delta'].describe()"
   ]
  },
  {
   "cell_type": "code",
   "execution_count": 4,
   "metadata": {},
   "outputs": [
    {
     "data": {
      "text/plain": [
       "<matplotlib.axes._subplots.AxesSubplot at 0x1a1834c898>"
      ]
     },
     "execution_count": 4,
     "metadata": {},
     "output_type": "execute_result"
    },
    {
     "data": {
      "image/png": "[encoded data removed]",
      "text/plain": [
       "<Figure size 432x288 with 1 Axes>"
      ]
     },
     "metadata": {
      "needs_background": "light"
     },
     "output_type": "display_data"
    }
   ],
   "source": [
    "df['completion percentage delta'].hist()"
   ]
  },
  {
   "cell_type": "code",
   "execution_count": 5,
   "metadata": {},
   "outputs": [
    {
     "data": {
      "text/plain": [
       "<matplotlib.axes._subplots.AxesSubplot at 0x1a183627f0>"
      ]
     },
     "execution_count": 5,
     "metadata": {},
     "output_type": "execute_result"
    },
    {
     "data": {
      "image/png": "[encoded data removed]",
      "text/plain": [
       "<Figure size 432x288 with 1 Axes>"
      ]
     },
     "metadata": {
      "needs_background": "light"
     },
     "output_type": "display_data"
    }
   ],
   "source": [
    "df['completion percentage delta'].plot.kde()"
   ]
  },
  {
   "cell_type": "code",
   "execution_count": 10,
   "metadata": {},
   "outputs": [
    {
     "data": {
      "text/plain": [
       "KstestResult(statistic=0.0522052140435042, pvalue=0.7823327920113265)"
      ]
     },
     "execution_count": 10,
     "metadata": {},
     "output_type": "execute_result"
    }
   ],
   "source": [
    "stats.kstest(df['standardized delta'], 'norm')"
   ]
  },
  {
   "cell_type": "code",
   "execution_count": 11,
   "metadata": {},
   "outputs": [
    {
     "data": {
      "text/plain": [
       "<matplotlib.axes._subplots.AxesSubplot at 0x1a2710e278>"
      ]
     },
     "execution_count": 11,
     "metadata": {},
     "output_type": "execute_result"
    },
    {
     "data": {
      "image/png": "[encoded data removed]",
      "text/plain": [
       "<Figure size 432x288 with 1 Axes>"
      ]
     },
     "metadata": {
      "needs_background": "light"
     },
     "output_type": "display_data"
    }
   ],
   "source": [
    "sns.kdeplot(df['completion percentage delta'], cumulative=True)"
   ]
  },
  {
   "cell_type": "code",
   "execution_count": 14,
   "metadata": {},
   "outputs": [
    {
     "data": {
      "text/html": [
       "<div>\n",
       "<style scoped>\n",
       "    .dataframe tbody tr th:only-of-type {\n",
       "        vertical-align: middle;\n",
       "    }\n",
       "\n",
       "    .dataframe tbody tr th {\n",
       "        vertical-align: top;\n",
       "    }\n",
       "\n",
       "    .dataframe thead th {\n",
       "        text-align: right;\n",
       "    }\n",
       "</style>\n",
       "<table border=\"1\" class=\"dataframe\">\n",
       "  <thead>\n",
       "    <tr style=\"text-align: right;\">\n",
       "      <th></th>\n",
       "      <th>name</th>\n",
       "      <th>season</th>\n",
       "      <th>standardized delta</th>\n",
       "      <th>tds</th>\n",
       "      <th>ints</th>\n",
       "      <th>completion percentage</th>\n",
       "    </tr>\n",
       "  </thead>\n",
       "  <tbody>\n",
       "    <tr>\n",
       "      <th>30</th>\n",
       "      <td>Kirk Cousins</td>\n",
       "      <td>2016.0</td>\n",
       "      <td>2.379089</td>\n",
       "      <td>25.0</td>\n",
       "      <td>12.0</td>\n",
       "      <td>67.1</td>\n",
       "    </tr>\n",
       "    <tr>\n",
       "      <th>143</th>\n",
       "      <td>Ryan Tannehill</td>\n",
       "      <td>2019.0</td>\n",
       "      <td>2.298957</td>\n",
       "      <td>22.0</td>\n",
       "      <td>6.0</td>\n",
       "      <td>70.3</td>\n",
       "    </tr>\n",
       "    <tr>\n",
       "      <th>7</th>\n",
       "      <td>Matt Ryan</td>\n",
       "      <td>2016.0</td>\n",
       "      <td>2.111984</td>\n",
       "      <td>38.0</td>\n",
       "      <td>7.0</td>\n",
       "      <td>69.9</td>\n",
       "    </tr>\n",
       "    <tr>\n",
       "      <th>36</th>\n",
       "      <td>Dak Prescott</td>\n",
       "      <td>2016.0</td>\n",
       "      <td>2.085274</td>\n",
       "      <td>23.0</td>\n",
       "      <td>4.0</td>\n",
       "      <td>67.8</td>\n",
       "    </tr>\n",
       "    <tr>\n",
       "      <th>83</th>\n",
       "      <td>Drew Brees</td>\n",
       "      <td>2018.0</td>\n",
       "      <td>1.978432</td>\n",
       "      <td>32.0</td>\n",
       "      <td>5.0</td>\n",
       "      <td>74.4</td>\n",
       "    </tr>\n",
       "    <tr>\n",
       "      <th>33</th>\n",
       "      <td>Sam Bradford</td>\n",
       "      <td>2016.0</td>\n",
       "      <td>1.951722</td>\n",
       "      <td>20.0</td>\n",
       "      <td>5.0</td>\n",
       "      <td>71.6</td>\n",
       "    </tr>\n",
       "    <tr>\n",
       "      <th>37</th>\n",
       "      <td>Cody Kessler</td>\n",
       "      <td>2016.0</td>\n",
       "      <td>1.871590</td>\n",
       "      <td>6.0</td>\n",
       "      <td>2.0</td>\n",
       "      <td>65.6</td>\n",
       "    </tr>\n",
       "    <tr>\n",
       "      <th>154</th>\n",
       "      <td>Drew Brees</td>\n",
       "      <td>2019.0</td>\n",
       "      <td>1.818169</td>\n",
       "      <td>27.0</td>\n",
       "      <td>4.0</td>\n",
       "      <td>74.3</td>\n",
       "    </tr>\n",
       "    <tr>\n",
       "      <th>139</th>\n",
       "      <td>Kirk Cousins</td>\n",
       "      <td>2019.0</td>\n",
       "      <td>1.631196</td>\n",
       "      <td>26.0</td>\n",
       "      <td>6.0</td>\n",
       "      <td>69.1</td>\n",
       "    </tr>\n",
       "    <tr>\n",
       "      <th>25</th>\n",
       "      <td>Ryan Tannehill</td>\n",
       "      <td>2016.0</td>\n",
       "      <td>1.577775</td>\n",
       "      <td>19.0</td>\n",
       "      <td>12.0</td>\n",
       "      <td>67.1</td>\n",
       "    </tr>\n",
       "  </tbody>\n",
       "</table>\n",
       "</div>"
      ],
      "text/plain": [
       "               name  season  standardized delta   tds  ints  \\\n",
       "30     Kirk Cousins  2016.0            2.379089  25.0  12.0   \n",
       "143  Ryan Tannehill  2019.0            2.298957  22.0   6.0   \n",
       "7         Matt Ryan  2016.0            2.111984  38.0   7.0   \n",
       "36     Dak Prescott  2016.0            2.085274  23.0   4.0   \n",
       "83       Drew Brees  2018.0            1.978432  32.0   5.0   \n",
       "33     Sam Bradford  2016.0            1.951722  20.0   5.0   \n",
       "37     Cody Kessler  2016.0            1.871590   6.0   2.0   \n",
       "154      Drew Brees  2019.0            1.818169  27.0   4.0   \n",
       "139    Kirk Cousins  2019.0            1.631196  26.0   6.0   \n",
       "25   Ryan Tannehill  2016.0            1.577775  19.0  12.0   \n",
       "\n",
       "     completion percentage  \n",
       "30                    67.1  \n",
       "143                   70.3  \n",
       "7                     69.9  \n",
       "36                    67.8  \n",
       "83                    74.4  \n",
       "33                    71.6  \n",
       "37                    65.6  \n",
       "154                   74.3  \n",
       "139                   69.1  \n",
       "25                    67.1  "
      ]
     },
     "execution_count": 14,
     "metadata": {},
     "output_type": "execute_result"
    }
   ],
   "source": [
    "df.sort_values(by='standardized delta',\n",
    "               ascending=False)[['name', 'season', 'standardized delta', 'tds', 'ints', 'completion percentage']].iloc[:10]"
   ]
  },
  {
   "cell_type": "code",
   "execution_count": 27,
   "metadata": {},
   "outputs": [
    {
     "data": {
      "text/html": [
       "<div>\n",
       "<style scoped>\n",
       "    .dataframe tbody tr th:only-of-type {\n",
       "        vertical-align: middle;\n",
       "    }\n",
       "\n",
       "    .dataframe tbody tr th {\n",
       "        vertical-align: top;\n",
       "    }\n",
       "\n",
       "    .dataframe thead th {\n",
       "        text-align: right;\n",
       "    }\n",
       "</style>\n",
       "<table border=\"1\" class=\"dataframe\">\n",
       "  <thead>\n",
       "    <tr style=\"text-align: right;\">\n",
       "      <th></th>\n",
       "      <th>name</th>\n",
       "      <th>season</th>\n",
       "      <th>completion percentage delta</th>\n",
       "    </tr>\n",
       "  </thead>\n",
       "  <tbody>\n",
       "    <tr>\n",
       "      <th>30</th>\n",
       "      <td>Kirk Cousins</td>\n",
       "      <td>2016.0</td>\n",
       "      <td>8.4</td>\n",
       "    </tr>\n",
       "    <tr>\n",
       "      <th>143</th>\n",
       "      <td>Ryan Tannehill</td>\n",
       "      <td>2019.0</td>\n",
       "      <td>8.1</td>\n",
       "    </tr>\n",
       "    <tr>\n",
       "      <th>7</th>\n",
       "      <td>Matt Ryan</td>\n",
       "      <td>2016.0</td>\n",
       "      <td>7.4</td>\n",
       "    </tr>\n",
       "    <tr>\n",
       "      <th>36</th>\n",
       "      <td>Dak Prescott</td>\n",
       "      <td>2016.0</td>\n",
       "      <td>7.3</td>\n",
       "    </tr>\n",
       "    <tr>\n",
       "      <th>83</th>\n",
       "      <td>Drew Brees</td>\n",
       "      <td>2018.0</td>\n",
       "      <td>6.9</td>\n",
       "    </tr>\n",
       "    <tr>\n",
       "      <th>...</th>\n",
       "      <td>...</td>\n",
       "      <td>...</td>\n",
       "      <td>...</td>\n",
       "    </tr>\n",
       "    <tr>\n",
       "      <th>43</th>\n",
       "      <td>DeShone Kizer</td>\n",
       "      <td>2017.0</td>\n",
       "      <td>-6.6</td>\n",
       "    </tr>\n",
       "    <tr>\n",
       "      <th>39</th>\n",
       "      <td>Brian Hoyer</td>\n",
       "      <td>2017.0</td>\n",
       "      <td>-7.2</td>\n",
       "    </tr>\n",
       "    <tr>\n",
       "      <th>90</th>\n",
       "      <td>Blake Bortles</td>\n",
       "      <td>2018.0</td>\n",
       "      <td>-7.5</td>\n",
       "    </tr>\n",
       "    <tr>\n",
       "      <th>109</th>\n",
       "      <td>Josh Allen</td>\n",
       "      <td>2018.0</td>\n",
       "      <td>-7.7</td>\n",
       "    </tr>\n",
       "    <tr>\n",
       "      <th>55</th>\n",
       "      <td>C.J. Beathard</td>\n",
       "      <td>2017.0</td>\n",
       "      <td>-10.8</td>\n",
       "    </tr>\n",
       "  </tbody>\n",
       "</table>\n",
       "<p>133 rows × 3 columns</p>\n",
       "</div>"
      ],
      "text/plain": [
       "               name  season  completion percentage delta\n",
       "30     Kirk Cousins  2016.0                          8.4\n",
       "143  Ryan Tannehill  2019.0                          8.1\n",
       "7         Matt Ryan  2016.0                          7.4\n",
       "36     Dak Prescott  2016.0                          7.3\n",
       "83       Drew Brees  2018.0                          6.9\n",
       "..              ...     ...                          ...\n",
       "43    DeShone Kizer  2017.0                         -6.6\n",
       "39      Brian Hoyer  2017.0                         -7.2\n",
       "90    Blake Bortles  2018.0                         -7.5\n",
       "109      Josh Allen  2018.0                         -7.7\n",
       "55    C.J. Beathard  2017.0                        -10.8\n",
       "\n",
       "[133 rows x 3 columns]"
      ]
     },
     "execution_count": 27,
     "metadata": {},
     "output_type": "execute_result"
    }
   ],
   "source": [
    "df[df['attempts'] > 200].sort_values(by='standardized delta', ascending=False)[['name', 'season', 'completion percentage delta']]"
   ]
  },
  {
   "cell_type": "code",
   "execution_count": null,
   "metadata": {},
   "outputs": [],
   "source": []
  }
 ],
 "metadata": {
  "kernelspec": {
   "display_name": "Python 3",
   "language": "python",
   "name": "python3"
  },
  "language_info": {
   "codemirror_mode": {
    "name": "ipython",
    "version": 3
   },
   "file_extension": ".py",
   "mimetype": "text/x-python",
   "name": "python",
   "nbconvert_exporter": "python",
   "pygments_lexer": "ipython3",
   "version": "3.7.0"
  }
 },
 "nbformat": 4,
 "nbformat_minor": 2
}
